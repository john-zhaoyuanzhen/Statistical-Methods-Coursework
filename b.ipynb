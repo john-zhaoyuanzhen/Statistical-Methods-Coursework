{
 "cells": [
  {
   "cell_type": "markdown",
   "metadata": {},
   "source": [
    "# Question b"
   ]
  },
  {
   "cell_type": "code",
   "execution_count": 69,
   "metadata": {},
   "outputs": [],
   "source": [
    "import numpy as np\n",
    "from scipy.stats import truncnorm, truncexpon\n",
    "from scipy.integrate import quad, dblquad, simpson\n",
    "import matplotlib.pyplot as plt"
   ]
  },
  {
   "cell_type": "code",
   "execution_count": 55,
   "metadata": {},
   "outputs": [],
   "source": [
    "mu, sigma, beta, m, f, lmda, mu_b, sigma_b = 3, 0.3, 1, 1.4, 0.6, 0.3, 0, 2.5"
   ]
  },
  {
   "cell_type": "code",
   "execution_count": 70,
   "metadata": {},
   "outputs": [],
   "source": [
    "def g_s_unnorm(x):\n",
    "    z = (x-mu)/sigma\n",
    "    if z > - beta:\n",
    "        pdf = np.exp(-z**2/2)\n",
    "    else:\n",
    "        pdf = (m/beta)**m * np.exp(-beta**2/2) * (m/beta - beta - z)**(-m)\n",
    "        \n",
    "    return pdf\n",
    "\n",
    "def g_s(x):\n",
    "    return g_s_unnorm(x)/quad(g_s_unnorm, 0, 5)[0]\n",
    "        \n",
    "h_s = lambda y: lmda*np.exp(-lmda*y)/quad(lambda y: lmda*np.exp(-lmda*y), 0, 10)[0]\n",
    "\n",
    "h_s = lambda x: truncexpon(lmda*x, loc=0, scale=lmda, b=10).pdf\n",
    "\n",
    "g_b = lambda x: 1/5\n",
    "\n",
    "h_b = lambda y: norm.pdf(y, mu_b, sigma_b)/(norm.cdf(10, mu_b, sigma_b) - norm.cdf(0, mu_b, sigma_b))\n",
    "\n",
    "s_xy = lambda y, x: g_s(x)*h_s(y)\n",
    "\n",
    "b_xy = lambda y, x: g_b(x)*h_b(y)\n",
    "\n",
    "f_xy = lambda y, x: f*g_s(x)*h_s(y) + (1-f)*g_b(x)*h_b(y)"
   ]
  },
  {
   "cell_type": "code",
   "execution_count": 72,
   "metadata": {},
   "outputs": [
    {
     "name": "stdout",
     "output_type": "stream",
     "text": [
      "The area of g_s: 0.9999999999999999\n"
     ]
    },
    {
     "ename": "NameError",
     "evalue": "name 'x' is not defined",
     "output_type": "error",
     "traceback": [
      "\u001b[1;31m---------------------------------------------------------------------------\u001b[0m",
      "\u001b[1;31mNameError\u001b[0m                                 Traceback (most recent call last)",
      "Cell \u001b[1;32mIn[72], line 3\u001b[0m\n\u001b[0;32m      1\u001b[0m \u001b[38;5;28mprint\u001b[39m(\u001b[38;5;124m\"\u001b[39m\u001b[38;5;124mThe area of g_s:\u001b[39m\u001b[38;5;124m\"\u001b[39m, quad(g_s, \u001b[38;5;241m0\u001b[39m, \u001b[38;5;241m5\u001b[39m)[\u001b[38;5;241m0\u001b[39m])\n\u001b[0;32m      2\u001b[0m \u001b[38;5;66;03m#print(\"The area of h_s:\", quad(h_s, 0, 10)[0])\u001b[39;00m\n\u001b[1;32m----> 3\u001b[0m \u001b[38;5;28mprint\u001b[39m(truncexpon(lmda\u001b[38;5;241m*\u001b[39m\u001b[43mx\u001b[49m, loc\u001b[38;5;241m=\u001b[39m\u001b[38;5;241m0\u001b[39m, scale\u001b[38;5;241m=\u001b[39mlmda, b\u001b[38;5;241m=\u001b[39m\u001b[38;5;241m10\u001b[39m)\u001b[38;5;241m.\u001b[39mcdf)\n\u001b[0;32m      4\u001b[0m \u001b[38;5;28mprint\u001b[39m(\u001b[38;5;124m\"\u001b[39m\u001b[38;5;124mThe area of g_b:\u001b[39m\u001b[38;5;124m\"\u001b[39m, quad(g_b, \u001b[38;5;241m0\u001b[39m, \u001b[38;5;241m5\u001b[39m)[\u001b[38;5;241m0\u001b[39m])\n\u001b[0;32m      5\u001b[0m \u001b[38;5;28mprint\u001b[39m(\u001b[38;5;124m\"\u001b[39m\u001b[38;5;124mThe area of h_b:\u001b[39m\u001b[38;5;124m\"\u001b[39m, quad(h_b, \u001b[38;5;241m0\u001b[39m, \u001b[38;5;241m10\u001b[39m)[\u001b[38;5;241m0\u001b[39m])\n",
      "\u001b[1;31mNameError\u001b[0m: name 'x' is not defined"
     ]
    }
   ],
   "source": [
    "print(\"The area of g_s:\", quad(g_s, 0, 5)[0])\n",
    "#print(\"The area of h_s:\", quad(h_s, 0, 10)[0])\n",
    "print(truncexpon(lmda*x, loc=0, scale=lmda, b=10).cdf)\n",
    "print(\"The area of g_b:\", quad(g_b, 0, 5)[0])\n",
    "print(\"The area of h_b:\", quad(h_b, 0, 10)[0])\n",
    "print(\"The area of s_xy:\", dblquad(s_xy, 0, 5, 0, 10)[0])\n",
    "print(\"The area of b_xy:\", dblquad(b_xy, 0, 5, 0, 10)[0])\n",
    "print(\"The area of f_xy:\", dblquad(f_xy, 0, 5, 0, 10)[0])"
   ]
  },
  {
   "cell_type": "code",
   "execution_count": null,
   "metadata": {},
   "outputs": [],
   "source": []
  }
 ],
 "metadata": {
  "kernelspec": {
   "display_name": "Python 3",
   "language": "python",
   "name": "python3"
  },
  "language_info": {
   "codemirror_mode": {
    "name": "ipython",
    "version": 3
   },
   "file_extension": ".py",
   "mimetype": "text/x-python",
   "name": "python",
   "nbconvert_exporter": "python",
   "pygments_lexer": "ipython3",
   "version": "3.12.6"
  }
 },
 "nbformat": 4,
 "nbformat_minor": 2
}
